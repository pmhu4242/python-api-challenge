{
 "cells": [
  {
   "cell_type": "code",
   "execution_count": 3,
   "metadata": {},
   "outputs": [],
   "source": [
    "# Dependencies and Setup\n",
    "import matplotlib.pyplot as plt\n",
    "import pandas as pd\n",
    "import numpy as np\n",
    "import requests\n",
    "import time\n",
    "from scipy.stats import linregress\n",
    "import scipy.stats as st\n",
    "from pprint import pprint \n",
    "\n",
    "# Import API key\n",
    "from api_keys import weather_api_key\n",
    "\n",
    "# Incorporated citipy to determine city based on latitude and longitude\n",
    "from citipy import citipy\n",
    "\n",
    "# Output File (CSV)\n",
    "output_data_file = \"output_data/cities.csv\"\n",
    "# output_data_file = \"Homework_Output/cities.csv\"\n",
    "\n",
    "# Range of latitudes and longitudes\n",
    "lat_range = (-90, 90)\n",
    "lng_range = (-180, 180)"
   ]
  },
  {
   "cell_type": "code",
   "execution_count": 4,
   "metadata": {},
   "outputs": [
    {
     "data": {
      "text/plain": [
       "651"
      ]
     },
     "execution_count": 4,
     "metadata": {},
     "output_type": "execute_result"
    }
   ],
   "source": [
    "# List for holding lat_lngs and cities\n",
    "lat_lngs = []\n",
    "cities = []\n",
    "\n",
    "# Create a set of random lat and lng combinations\n",
    "lats = np.random.uniform(lat_range[0], lat_range[1], size=1500)\n",
    "lngs = np.random.uniform(lng_range[0], lng_range[1], size=1500)\n",
    "lat_lngs = zip(lats, lngs)\n",
    "\n",
    "# Identify nearest city for each lat, lng combination\n",
    "for lat_lng in lat_lngs:\n",
    "    city = citipy.nearest_city(lat_lng[0], lat_lng[1]).city_name\n",
    "    \n",
    "    # If the city is unique, then add it to a our cities list\n",
    "    if city not in cities:\n",
    "        cities.append(city)\n",
    "\n",
    "# Print the city count to confirm sufficient count\n",
    "len(cities)"
   ]
  },
  {
   "cell_type": "code",
   "execution_count": 5,
   "metadata": {},
   "outputs": [
    {
     "name": "stdout",
     "output_type": "stream",
     "text": [
      "['cape town', 'najran', 'castro', 'severo-kurilsk', 'ushuaia', 'hobart', 'albany', 'jamestown', 'geraldton', 'dunedin', 'khatanga', 'tamandare', 'bluff', 'shadegan', 'high level', 'puerto ayora', 'shingu', 'nizhneyansk', 'laramie', 'ahipara', 'tevriz', 'ereymentau', 'bochnia', 'taolanaro', 'krasnyy chikoy', 'bambous virieux', 'hilo', 'dauphin', 'new norfolk', 'flinders', 'vaitupu', 'nome', 'atuona', 'port elizabeth', 'barrow', 'lebu', 'illoqqortoormiut', 'asfi', 'rikitea', 'cochrane', 'vaini', 'louisbourg', 'trairi', 'upernavik', 'mataura', 'naze', 'broome', 'el carrizo', 'fevralsk', 'praya', 'saldanha', 'saint george', 'boa vista', 'fort morgan', 'saleaula', 'kuche', 'bud', 'mahebourg', 'algiers', 'punta arenas', 'victoria', 'talakan', 'bredasdorp', 'dikson', 'tautira', 'tiksi', 'belushya guba', 'busselton', 'kruisfontein', 'ponta do sol', 'fort nelson', 'mar del plata', 'grand gaube', 'otane', 'alugan', 'fort-shevchenko', 'ostrovnoy', 'oloron-sainte-marie', 'katsina', 'hasaki', 'barra patuca', 'butaritari', 'tuatapere', 'qasigiannguit', 'hirara', 'ahumada', 'fortuna foothills', 'vila', 'longyearbyen', 'bichura', 'roma', 'yellowknife', 'avarua', 'usinsk', 'maine-soroa', 'tura', 'newcastle', 'bani', 'ozgon', 'hithadhoo', 'ulladulla', 'fairbanks', 'bubaque', 'keti bandar', 'paita', 'kahului', 'boysun', 'kapaa', 'mananjary', 'visnes', 'kargasok', 'marica', 'namibe', 'iranshahr', 'kungurtug', 'georgetown', 'fortuna', 'kerema', 'vieques', 'astaneh-ye ashrafiyeh', 'vestmanna', 'nanortalik', 'nemuro', 'guerrero negro', 'kloulklubed', 'pangody', 'vardo', 'steinbach', 'wiang sa', 'le port', 'husavik', 'attawapiskat', 'buala', 'provideniya', 'saint anthony', 'mwingi', 'hermanus', 'kutum', 'port alfred', 'rancho palos verdes', 'erzin', 'thessalon', 'thompson', 'faanui', 'viedma', 'tuktoyaktuk', 'rawson', 'canton', 'lomovka', 'zemio', 'bethel', 'baruun-urt', 'torbay', 'barentsburg', 'port-cartier', 'sinnamary', 'verkhniye kigi', 'meyungs', 'dubbo', 'phangnga', 'pevek', 'oytal', 'igarape-miri', 'sao raimundo nonato', 'placido de castro', 'arraial do cabo', 'dedougou', 'ejura', 'kundiawa', 'hirna', 'sihora', 'tyrma', 'pisco', 'vila velha', 'warqla', 'san policarpo', 'airai', 'khryashchevka', 'balkanabat', 'yelnya', 'bolungarvik', 'chokurdakh', 'carutapera', 'itoman', 'osakarovka', 'kargopol', 'marsh harbour', 'sorong', 'salalah', 'qaanaaq', 'tasiilaq', 'ukiah', 'lompoc', 'nguiu', 'isangel', 'petropavlovsk-kamchatskiy', 'iquique', 'koumac', 'chokwe', 'cherskiy', 'ribeira grande', 'dutlwe', 'aflu', 'grindavik', 'vangaindrano', 'askiz', 'sisimiut', 'kodiak', 'laguna', 'tomatlan', 'nouadhibou', 'ojinaga', 'san lorenzo', 'juneau', 'lata', 'port lincoln', 'boden', 'ixtapa', 'faranah', 'ngukurr', 'narsaq', 'bedesa', 'lavumisa', 'hovd', 'kyren', 'tsihombe', 'bathsheba', 'tazovskiy', 'sao joao da barra', 'grand river south east', 'porvoo', 'lyangasovo', 'vanimo', 'winnemucca', 'ciudad valles', 'burkhala', 'kimbe', 'gidole', 'kyzyl-suu', 'klaksvik', 'san cristobal', 'kalmunai', 'lolua', 'arlit', 'ermelo', 'santiago del estero', 'sao filipe', 'aklavik', 'punta alta', 'skalistyy', 'ilulissat', 'yatou', 'flin flon', 'hualmay', 'mackenzie', 'kavieng', 'shitanjing', 'constitucion', 'mount isa', 'stornoway', 'bengkulu', 'vagur', 'vostok', 'alofi', 'san carlos de bariloche', 'basco', 'ambodifototra', 'aljezur', 'berlevag', 'avera', 'sal rei', 'tidore', 'gavle', 'cap malheureux', 'yulara', 'saquarema', 'kibala', 'kontagora', 'comodoro rivadavia', 'macaboboni', 'mys shmidta', 'pedernales', 'ploemeur', 'mogadishu', 'clyde river', 'luderitz', 'acapulco', 'kulob', 'tatui', 'beloha', 'altamirano', 'bonthe', 'formoso do araguaia', 'amderma', 'souillac', 'ntungamo', 'praxedis guerrero', 'suratgarh', 'cidreira', 'atasu', 'beringovskiy', 'east london', 'camacha', 'dolores', 'saint-philippe', 'tasbuget', 'ekuvukeni', 'san quintin', 'general roca', 'yarmouth', 'dianopolis', 'takaungu', 'ketchikan', 'alibag', 'zaysan', 'furano', 'toyooka', 'flamanzi', 'las vegas', 'chhatarpur', 'norman wells', 'lorengau', 'casas grandes', 'galle', 'korla', 'yandoon', 'zhuhai', 'saskylakh', 'college', 'lamesa', 'lagoa', 'zunyi', 'sambava', 'auch', 'buenaventura', 'solt', 'kamenskoye', 'marawi', 'skibbereen', 'borogontsy', 'we', 'san pedro', 'raychikhinsk', 'sokoni', 'los llanos de aridane', 'rosita', 'bama', 'nyrob', 'nchelenge', 'posse', 'namatanai', 'kibre mengist', 'soyo', 'zig', 'alice springs', 'manggar', 'cabo san lucas', 'sentyabrskiy', 'mount gambier', 'alghero', 'nikolskoye', 'dzhusaly', 'salisbury', 'turbat', 'iqaluit', 'kieta', 'chute-aux-outardes', 'perth', 'nedjo', 'zyryanka', 'dargaville', 'riyadh', 'sur', 'port hedland', 'morro bay', 'shaghat', 'haines junction', 'waingapu', 'chiang rai', 'lufilufi', 'cehegin', 'taoudenni', 'kualakapuas', 'altamira', 'hambantota', 'zeljezno polje', 'dudingen', 'vestmannaeyjar', 'tokur', 'atar', 'mukhen', 'jacareacanga', 'talnakh', 'mooi river', 'te anau', 'chotila', 'the valley', 'kadykchan', 'miraflores', 'ayagoz', 'steamboat springs', 'korem', 'behbahan', 'braslav', 'esna', 'yerbogachen', 'malanje', 'zhigansk', 'wahran', 'barcelos', 'palabuhanratu', 'mitsamiouli', 'portland', 'acajutla', 'poum', 'san ramon', 'bogandinskiy', 'galgani', 'saryshagan', 'zabid', 'san andres', 'roberval', 'kasongo', 'ostashkov', 'scarborough', 'ourossogui', 'cayenne', 'shchors', 'salinas', 'rocha', 'puerto madryn', 'akdepe', 'olinda', 'kaitangata', 'lumphat', 'chapais', 'chabahar', 'tateyama', 'eureka', 'cockburn harbour', 'cape coast', 'ust-kuyga', 'rolim de moura', 'leningradskiy', 'muros', 'codrington', 'khani', 'krasnokamensk', 'yafran', 'athabasca', 'chicama', 'dengfeng', 'port hawkesbury', 'hannan', 'rio gallegos', 'north bend', 'tacoronte', 'asau', 'mao', 'palestine', 'wanning', 'dobele', 'waynesville', 'tokzar', 'livingstonia', 'murupara', 'chuy', 'kentau', 'xam nua', 'easton', 'ahome', 'natal', 'ingham', 'buchanan', 'aracruz', 'hit', 'vaitape', 'bac lieu', 'deputatskiy', 'katsuura', 'bosaso', 'awbari', 'nantucket', 'sainte-suzanne', 'adrar', 'cortez', 'kamaishi', 'morant bay', 'havoysund', 'labuhan', 'singkawang', 'sault sainte marie', 'sao felix do xingu', 'half moon bay', 'seoul', 'ust-nera', 'vila franca do campo', 'sirathu', 'tumarbong', 'georgiyevka', 'fort payne', 'bur gabo', 'kosh-agach', 'sitka', 'necochea', 'saharsa', 'brae', 'galiwinku', 'mayumba', 'kirakira', 'aleksandrov gay', 'casa grande', 'doha', 'gimli', 'praia da vitoria', 'tiznit', 'inhambane', 'wiwili', 'malabo', 'santa eulalia del rio', 'georgiyevskoye', 'palauig', 'bolobo', 'polunochnoye', 'coquimbo', 'sungaipenuh', 'kenai', 'senanga', 'kyabe', 'kavaratti', 'sutysky', 'kununurra', 'amnat charoen', 'reconquista', 'mbini', 'bamako', 'goya', 'korostyshiv', 'tera', 'sorland', 'curitibanos', 'saint-marc-des-carrieres', 'biltine', 'pacific grove', 'hamilton', 'mangrol', 'lashio', 'araouane', 'dharmadam', 'lunca ilvei', 'suamico', 'evensk', 'trinidad', 'nowy targ', 'richards bay', 'fianga', 'celestun', 'fomboni', 'marovoay', 'ola', 'goundi', 'kampong thum', 'pangnirtung', 'porosozero', 'talara', 'naco', 'saint-joseph', 'demba', 'kalomo', 'taltal', 'shache', 'srednekolymsk', 'saint-pierre', 'mardin', 'bousso', 'amarante', 'siocon', 'sattahip', 'tibacuy', 'udachnyy', 'kapan', 'salekhard', 'mehamn', 'samusu', 'port blair', 'bandarbeyla', 'corn island', 'milkovo', 'yuci', 'ramhormoz', 'ndjole', 'aksay', 'bati', 'aswan', 'tabiauea', 'alexandria', 'synya', 'oranjemund', 'genhe', 'sola', 'colesberg', 'ouallam', 'qiqihar', 'jawa', 'mergui', 'zhangjiakou', 'lethem', 'mocuba', 'sao paulo de olivenca', 'quelimane', 'sines', 'quatre cocos', 'russell', 'katobu', 'rundu', 'cumana', 'galesong', 'moron', 'scottsburgh', 'ganzhou', 'carnarvon', 'doctor pedro p. pena', 'mananara', 'jiayuguan', 'svetlaya', 'qaqortoq', 'manokwari', 'vallenar', 'verkhoyansk', 'zhangye', 'linjiang', 'sangar', 'moose factory', 'huangmei', 'esperance', 'faridan', 'urdoma', 'shihezi', 'hammerfest', 'wagga wagga', 'whitehorse', 'samalaeulu', 'zaraza', 'faya', 'hami', 'betlitsa', 'hihifo', 'yenagoa', 'molchanovo', 'namtsy', 'sibolga']\n"
     ]
    }
   ],
   "source": [
    "print(cities)"
   ]
  },
  {
   "cell_type": "code",
   "execution_count": 6,
   "metadata": {},
   "outputs": [
    {
     "name": "stdout",
     "output_type": "stream",
     "text": [
      "Beginning Data Retrieval\n",
      "-------------------------------\n",
      "City not found. Skipping...\n",
      "City not found. Skipping...\n",
      "City not found. Skipping...\n",
      "City not found. Skipping...\n",
      "City not found. Skipping...\n",
      "City not found. Skipping...\n",
      "City not found. Skipping...\n",
      "City not found. Skipping...\n",
      "City not found. Skipping...\n",
      "City not found. Skipping...\n",
      "City not found. Skipping...\n",
      "City not found. Skipping...\n",
      "City not found. Skipping...\n",
      "City not found. Skipping...\n",
      "City not found. Skipping...\n",
      "City not found. Skipping...\n",
      "City not found. Skipping...\n",
      "City not found. Skipping...\n",
      "City not found. Skipping...\n",
      "City not found. Skipping...\n",
      "City not found. Skipping...\n",
      "City not found. Skipping...\n",
      "City not found. Skipping...\n",
      "City not found. Skipping...\n",
      "City not found. Skipping...\n",
      "City not found. Skipping...\n",
      "City not found. Skipping...\n",
      "City not found. Skipping...\n",
      "City not found. Skipping...\n",
      "City not found. Skipping...\n",
      "City not found. Skipping...\n",
      "City not found. Skipping...\n",
      "City not found. Skipping...\n",
      "City not found. Skipping...\n",
      "City not found. Skipping...\n",
      "City not found. Skipping...\n",
      "City not found. Skipping...\n",
      "City not found. Skipping...\n",
      "City not found. Skipping...\n",
      "City not found. Skipping...\n",
      "City not found. Skipping...\n",
      "City not found. Skipping...\n",
      "City not found. Skipping...\n",
      "City not found. Skipping...\n",
      "City not found. Skipping...\n",
      "City not found. Skipping...\n",
      "City not found. Skipping...\n",
      "City not found. Skipping...\n",
      "City not found. Skipping...\n",
      "City not found. Skipping...\n",
      "City not found. Skipping...\n",
      "City not found. Skipping...\n",
      "City not found. Skipping...\n",
      "City not found. Skipping...\n",
      "City not found. Skipping...\n",
      "City not found. Skipping...\n",
      "City not found. Skipping...\n",
      "City not found. Skipping...\n",
      "City not found. Skipping...\n",
      "City not found. Skipping...\n"
     ]
    },
    {
     "ename": "KeyboardInterrupt",
     "evalue": "",
     "output_type": "error",
     "traceback": [
      "\u001b[1;31m---------------------------------------------------------------------------\u001b[0m",
      "\u001b[1;31mKeyboardInterrupt\u001b[0m                         Traceback (most recent call last)",
      "\u001b[1;32m<ipython-input-6-1ae323ad86ef>\u001b[0m in \u001b[0;36m<module>\u001b[1;34m\u001b[0m\n\u001b[0;32m     28\u001b[0m     \u001b[0mquery_url\u001b[0m \u001b[1;33m=\u001b[0m \u001b[1;34mf\"{url}appid={weather_api_key}&units={units}&q=\"\u001b[0m\u001b[1;33m\u001b[0m\u001b[1;33m\u001b[0m\u001b[0m\n\u001b[0;32m     29\u001b[0m \u001b[1;33m\u001b[0m\u001b[0m\n\u001b[1;32m---> 30\u001b[1;33m     \u001b[0mresponse\u001b[0m \u001b[1;33m=\u001b[0m \u001b[0mrequests\u001b[0m\u001b[1;33m.\u001b[0m\u001b[0mget\u001b[0m\u001b[1;33m(\u001b[0m\u001b[0mquery_url\u001b[0m \u001b[1;33m+\u001b[0m \u001b[0mcity\u001b[0m\u001b[1;33m)\u001b[0m\u001b[1;33m.\u001b[0m\u001b[0mjson\u001b[0m\u001b[1;33m(\u001b[0m\u001b[1;33m)\u001b[0m\u001b[1;33m\u001b[0m\u001b[1;33m\u001b[0m\u001b[0m\n\u001b[0m\u001b[0;32m     31\u001b[0m \u001b[1;31m#     print(response)\u001b[0m\u001b[1;33m\u001b[0m\u001b[1;33m\u001b[0m\u001b[1;33m\u001b[0m\u001b[0m\n\u001b[0;32m     32\u001b[0m     \u001b[1;32mtry\u001b[0m\u001b[1;33m:\u001b[0m\u001b[1;33m\u001b[0m\u001b[1;33m\u001b[0m\u001b[0m\n",
      "\u001b[1;32m~\\anaconda3\\envs\\PythonData\\lib\\site-packages\\requests\\api.py\u001b[0m in \u001b[0;36mget\u001b[1;34m(url, params, **kwargs)\u001b[0m\n\u001b[0;32m     74\u001b[0m \u001b[1;33m\u001b[0m\u001b[0m\n\u001b[0;32m     75\u001b[0m     \u001b[0mkwargs\u001b[0m\u001b[1;33m.\u001b[0m\u001b[0msetdefault\u001b[0m\u001b[1;33m(\u001b[0m\u001b[1;34m'allow_redirects'\u001b[0m\u001b[1;33m,\u001b[0m \u001b[1;32mTrue\u001b[0m\u001b[1;33m)\u001b[0m\u001b[1;33m\u001b[0m\u001b[1;33m\u001b[0m\u001b[0m\n\u001b[1;32m---> 76\u001b[1;33m     \u001b[1;32mreturn\u001b[0m \u001b[0mrequest\u001b[0m\u001b[1;33m(\u001b[0m\u001b[1;34m'get'\u001b[0m\u001b[1;33m,\u001b[0m \u001b[0murl\u001b[0m\u001b[1;33m,\u001b[0m \u001b[0mparams\u001b[0m\u001b[1;33m=\u001b[0m\u001b[0mparams\u001b[0m\u001b[1;33m,\u001b[0m \u001b[1;33m**\u001b[0m\u001b[0mkwargs\u001b[0m\u001b[1;33m)\u001b[0m\u001b[1;33m\u001b[0m\u001b[1;33m\u001b[0m\u001b[0m\n\u001b[0m\u001b[0;32m     77\u001b[0m \u001b[1;33m\u001b[0m\u001b[0m\n\u001b[0;32m     78\u001b[0m \u001b[1;33m\u001b[0m\u001b[0m\n",
      "\u001b[1;32m~\\anaconda3\\envs\\PythonData\\lib\\site-packages\\requests\\api.py\u001b[0m in \u001b[0;36mrequest\u001b[1;34m(method, url, **kwargs)\u001b[0m\n\u001b[0;32m     59\u001b[0m     \u001b[1;31m# cases, and look like a memory leak in others.\u001b[0m\u001b[1;33m\u001b[0m\u001b[1;33m\u001b[0m\u001b[1;33m\u001b[0m\u001b[0m\n\u001b[0;32m     60\u001b[0m     \u001b[1;32mwith\u001b[0m \u001b[0msessions\u001b[0m\u001b[1;33m.\u001b[0m\u001b[0mSession\u001b[0m\u001b[1;33m(\u001b[0m\u001b[1;33m)\u001b[0m \u001b[1;32mas\u001b[0m \u001b[0msession\u001b[0m\u001b[1;33m:\u001b[0m\u001b[1;33m\u001b[0m\u001b[1;33m\u001b[0m\u001b[0m\n\u001b[1;32m---> 61\u001b[1;33m         \u001b[1;32mreturn\u001b[0m \u001b[0msession\u001b[0m\u001b[1;33m.\u001b[0m\u001b[0mrequest\u001b[0m\u001b[1;33m(\u001b[0m\u001b[0mmethod\u001b[0m\u001b[1;33m=\u001b[0m\u001b[0mmethod\u001b[0m\u001b[1;33m,\u001b[0m \u001b[0murl\u001b[0m\u001b[1;33m=\u001b[0m\u001b[0murl\u001b[0m\u001b[1;33m,\u001b[0m \u001b[1;33m**\u001b[0m\u001b[0mkwargs\u001b[0m\u001b[1;33m)\u001b[0m\u001b[1;33m\u001b[0m\u001b[1;33m\u001b[0m\u001b[0m\n\u001b[0m\u001b[0;32m     62\u001b[0m \u001b[1;33m\u001b[0m\u001b[0m\n\u001b[0;32m     63\u001b[0m \u001b[1;33m\u001b[0m\u001b[0m\n",
      "\u001b[1;32m~\\anaconda3\\envs\\PythonData\\lib\\site-packages\\requests\\sessions.py\u001b[0m in \u001b[0;36mrequest\u001b[1;34m(self, method, url, params, data, headers, cookies, files, auth, timeout, allow_redirects, proxies, hooks, stream, verify, cert, json)\u001b[0m\n\u001b[0;32m    528\u001b[0m         }\n\u001b[0;32m    529\u001b[0m         \u001b[0msend_kwargs\u001b[0m\u001b[1;33m.\u001b[0m\u001b[0mupdate\u001b[0m\u001b[1;33m(\u001b[0m\u001b[0msettings\u001b[0m\u001b[1;33m)\u001b[0m\u001b[1;33m\u001b[0m\u001b[1;33m\u001b[0m\u001b[0m\n\u001b[1;32m--> 530\u001b[1;33m         \u001b[0mresp\u001b[0m \u001b[1;33m=\u001b[0m \u001b[0mself\u001b[0m\u001b[1;33m.\u001b[0m\u001b[0msend\u001b[0m\u001b[1;33m(\u001b[0m\u001b[0mprep\u001b[0m\u001b[1;33m,\u001b[0m \u001b[1;33m**\u001b[0m\u001b[0msend_kwargs\u001b[0m\u001b[1;33m)\u001b[0m\u001b[1;33m\u001b[0m\u001b[1;33m\u001b[0m\u001b[0m\n\u001b[0m\u001b[0;32m    531\u001b[0m \u001b[1;33m\u001b[0m\u001b[0m\n\u001b[0;32m    532\u001b[0m         \u001b[1;32mreturn\u001b[0m \u001b[0mresp\u001b[0m\u001b[1;33m\u001b[0m\u001b[1;33m\u001b[0m\u001b[0m\n",
      "\u001b[1;32m~\\anaconda3\\envs\\PythonData\\lib\\site-packages\\requests\\sessions.py\u001b[0m in \u001b[0;36msend\u001b[1;34m(self, request, **kwargs)\u001b[0m\n\u001b[0;32m    641\u001b[0m \u001b[1;33m\u001b[0m\u001b[0m\n\u001b[0;32m    642\u001b[0m         \u001b[1;31m# Send the request\u001b[0m\u001b[1;33m\u001b[0m\u001b[1;33m\u001b[0m\u001b[1;33m\u001b[0m\u001b[0m\n\u001b[1;32m--> 643\u001b[1;33m         \u001b[0mr\u001b[0m \u001b[1;33m=\u001b[0m \u001b[0madapter\u001b[0m\u001b[1;33m.\u001b[0m\u001b[0msend\u001b[0m\u001b[1;33m(\u001b[0m\u001b[0mrequest\u001b[0m\u001b[1;33m,\u001b[0m \u001b[1;33m**\u001b[0m\u001b[0mkwargs\u001b[0m\u001b[1;33m)\u001b[0m\u001b[1;33m\u001b[0m\u001b[1;33m\u001b[0m\u001b[0m\n\u001b[0m\u001b[0;32m    644\u001b[0m \u001b[1;33m\u001b[0m\u001b[0m\n\u001b[0;32m    645\u001b[0m         \u001b[1;31m# Total elapsed time of the request (approximately)\u001b[0m\u001b[1;33m\u001b[0m\u001b[1;33m\u001b[0m\u001b[1;33m\u001b[0m\u001b[0m\n",
      "\u001b[1;32m~\\anaconda3\\envs\\PythonData\\lib\\site-packages\\requests\\adapters.py\u001b[0m in \u001b[0;36msend\u001b[1;34m(self, request, stream, timeout, verify, cert, proxies)\u001b[0m\n\u001b[0;32m    447\u001b[0m                     \u001b[0mdecode_content\u001b[0m\u001b[1;33m=\u001b[0m\u001b[1;32mFalse\u001b[0m\u001b[1;33m,\u001b[0m\u001b[1;33m\u001b[0m\u001b[1;33m\u001b[0m\u001b[0m\n\u001b[0;32m    448\u001b[0m                     \u001b[0mretries\u001b[0m\u001b[1;33m=\u001b[0m\u001b[0mself\u001b[0m\u001b[1;33m.\u001b[0m\u001b[0mmax_retries\u001b[0m\u001b[1;33m,\u001b[0m\u001b[1;33m\u001b[0m\u001b[1;33m\u001b[0m\u001b[0m\n\u001b[1;32m--> 449\u001b[1;33m                     \u001b[0mtimeout\u001b[0m\u001b[1;33m=\u001b[0m\u001b[0mtimeout\u001b[0m\u001b[1;33m\u001b[0m\u001b[1;33m\u001b[0m\u001b[0m\n\u001b[0m\u001b[0;32m    450\u001b[0m                 )\n\u001b[0;32m    451\u001b[0m \u001b[1;33m\u001b[0m\u001b[0m\n",
      "\u001b[1;32m~\\anaconda3\\envs\\PythonData\\lib\\site-packages\\urllib3\\connectionpool.py\u001b[0m in \u001b[0;36murlopen\u001b[1;34m(self, method, url, body, headers, retries, redirect, assert_same_host, timeout, pool_timeout, release_conn, chunked, body_pos, **response_kw)\u001b[0m\n\u001b[0;32m    675\u001b[0m                 \u001b[0mbody\u001b[0m\u001b[1;33m=\u001b[0m\u001b[0mbody\u001b[0m\u001b[1;33m,\u001b[0m\u001b[1;33m\u001b[0m\u001b[1;33m\u001b[0m\u001b[0m\n\u001b[0;32m    676\u001b[0m                 \u001b[0mheaders\u001b[0m\u001b[1;33m=\u001b[0m\u001b[0mheaders\u001b[0m\u001b[1;33m,\u001b[0m\u001b[1;33m\u001b[0m\u001b[1;33m\u001b[0m\u001b[0m\n\u001b[1;32m--> 677\u001b[1;33m                 \u001b[0mchunked\u001b[0m\u001b[1;33m=\u001b[0m\u001b[0mchunked\u001b[0m\u001b[1;33m,\u001b[0m\u001b[1;33m\u001b[0m\u001b[1;33m\u001b[0m\u001b[0m\n\u001b[0m\u001b[0;32m    678\u001b[0m             )\n\u001b[0;32m    679\u001b[0m \u001b[1;33m\u001b[0m\u001b[0m\n",
      "\u001b[1;32m~\\anaconda3\\envs\\PythonData\\lib\\site-packages\\urllib3\\connectionpool.py\u001b[0m in \u001b[0;36m_make_request\u001b[1;34m(self, conn, method, url, timeout, chunked, **httplib_request_kw)\u001b[0m\n\u001b[0;32m    424\u001b[0m                     \u001b[1;31m# Python 3 (including for exceptions like SystemExit).\u001b[0m\u001b[1;33m\u001b[0m\u001b[1;33m\u001b[0m\u001b[1;33m\u001b[0m\u001b[0m\n\u001b[0;32m    425\u001b[0m                     \u001b[1;31m# Otherwise it looks like a bug in the code.\u001b[0m\u001b[1;33m\u001b[0m\u001b[1;33m\u001b[0m\u001b[1;33m\u001b[0m\u001b[0m\n\u001b[1;32m--> 426\u001b[1;33m                     \u001b[0msix\u001b[0m\u001b[1;33m.\u001b[0m\u001b[0mraise_from\u001b[0m\u001b[1;33m(\u001b[0m\u001b[0me\u001b[0m\u001b[1;33m,\u001b[0m \u001b[1;32mNone\u001b[0m\u001b[1;33m)\u001b[0m\u001b[1;33m\u001b[0m\u001b[1;33m\u001b[0m\u001b[0m\n\u001b[0m\u001b[0;32m    427\u001b[0m         \u001b[1;32mexcept\u001b[0m \u001b[1;33m(\u001b[0m\u001b[0mSocketTimeout\u001b[0m\u001b[1;33m,\u001b[0m \u001b[0mBaseSSLError\u001b[0m\u001b[1;33m,\u001b[0m \u001b[0mSocketError\u001b[0m\u001b[1;33m)\u001b[0m \u001b[1;32mas\u001b[0m \u001b[0me\u001b[0m\u001b[1;33m:\u001b[0m\u001b[1;33m\u001b[0m\u001b[1;33m\u001b[0m\u001b[0m\n\u001b[0;32m    428\u001b[0m             \u001b[0mself\u001b[0m\u001b[1;33m.\u001b[0m\u001b[0m_raise_timeout\u001b[0m\u001b[1;33m(\u001b[0m\u001b[0merr\u001b[0m\u001b[1;33m=\u001b[0m\u001b[0me\u001b[0m\u001b[1;33m,\u001b[0m \u001b[0murl\u001b[0m\u001b[1;33m=\u001b[0m\u001b[0murl\u001b[0m\u001b[1;33m,\u001b[0m \u001b[0mtimeout_value\u001b[0m\u001b[1;33m=\u001b[0m\u001b[0mread_timeout\u001b[0m\u001b[1;33m)\u001b[0m\u001b[1;33m\u001b[0m\u001b[1;33m\u001b[0m\u001b[0m\n",
      "\u001b[1;32m~\\anaconda3\\envs\\PythonData\\lib\\site-packages\\urllib3\\packages\\six.py\u001b[0m in \u001b[0;36mraise_from\u001b[1;34m(value, from_value)\u001b[0m\n",
      "\u001b[1;32m~\\anaconda3\\envs\\PythonData\\lib\\site-packages\\urllib3\\connectionpool.py\u001b[0m in \u001b[0;36m_make_request\u001b[1;34m(self, conn, method, url, timeout, chunked, **httplib_request_kw)\u001b[0m\n\u001b[0;32m    419\u001b[0m                 \u001b[1;31m# Python 3\u001b[0m\u001b[1;33m\u001b[0m\u001b[1;33m\u001b[0m\u001b[1;33m\u001b[0m\u001b[0m\n\u001b[0;32m    420\u001b[0m                 \u001b[1;32mtry\u001b[0m\u001b[1;33m:\u001b[0m\u001b[1;33m\u001b[0m\u001b[1;33m\u001b[0m\u001b[0m\n\u001b[1;32m--> 421\u001b[1;33m                     \u001b[0mhttplib_response\u001b[0m \u001b[1;33m=\u001b[0m \u001b[0mconn\u001b[0m\u001b[1;33m.\u001b[0m\u001b[0mgetresponse\u001b[0m\u001b[1;33m(\u001b[0m\u001b[1;33m)\u001b[0m\u001b[1;33m\u001b[0m\u001b[1;33m\u001b[0m\u001b[0m\n\u001b[0m\u001b[0;32m    422\u001b[0m                 \u001b[1;32mexcept\u001b[0m \u001b[0mBaseException\u001b[0m \u001b[1;32mas\u001b[0m \u001b[0me\u001b[0m\u001b[1;33m:\u001b[0m\u001b[1;33m\u001b[0m\u001b[1;33m\u001b[0m\u001b[0m\n\u001b[0;32m    423\u001b[0m                     \u001b[1;31m# Remove the TypeError from the exception chain in\u001b[0m\u001b[1;33m\u001b[0m\u001b[1;33m\u001b[0m\u001b[1;33m\u001b[0m\u001b[0m\n",
      "\u001b[1;32m~\\anaconda3\\envs\\PythonData\\lib\\http\\client.py\u001b[0m in \u001b[0;36mgetresponse\u001b[1;34m(self)\u001b[0m\n\u001b[0;32m   1352\u001b[0m         \u001b[1;32mtry\u001b[0m\u001b[1;33m:\u001b[0m\u001b[1;33m\u001b[0m\u001b[1;33m\u001b[0m\u001b[0m\n\u001b[0;32m   1353\u001b[0m             \u001b[1;32mtry\u001b[0m\u001b[1;33m:\u001b[0m\u001b[1;33m\u001b[0m\u001b[1;33m\u001b[0m\u001b[0m\n\u001b[1;32m-> 1354\u001b[1;33m                 \u001b[0mresponse\u001b[0m\u001b[1;33m.\u001b[0m\u001b[0mbegin\u001b[0m\u001b[1;33m(\u001b[0m\u001b[1;33m)\u001b[0m\u001b[1;33m\u001b[0m\u001b[1;33m\u001b[0m\u001b[0m\n\u001b[0m\u001b[0;32m   1355\u001b[0m             \u001b[1;32mexcept\u001b[0m \u001b[0mConnectionError\u001b[0m\u001b[1;33m:\u001b[0m\u001b[1;33m\u001b[0m\u001b[1;33m\u001b[0m\u001b[0m\n\u001b[0;32m   1356\u001b[0m                 \u001b[0mself\u001b[0m\u001b[1;33m.\u001b[0m\u001b[0mclose\u001b[0m\u001b[1;33m(\u001b[0m\u001b[1;33m)\u001b[0m\u001b[1;33m\u001b[0m\u001b[1;33m\u001b[0m\u001b[0m\n",
      "\u001b[1;32m~\\anaconda3\\envs\\PythonData\\lib\\http\\client.py\u001b[0m in \u001b[0;36mbegin\u001b[1;34m(self)\u001b[0m\n\u001b[0;32m    305\u001b[0m         \u001b[1;31m# read until we get a non-100 response\u001b[0m\u001b[1;33m\u001b[0m\u001b[1;33m\u001b[0m\u001b[1;33m\u001b[0m\u001b[0m\n\u001b[0;32m    306\u001b[0m         \u001b[1;32mwhile\u001b[0m \u001b[1;32mTrue\u001b[0m\u001b[1;33m:\u001b[0m\u001b[1;33m\u001b[0m\u001b[1;33m\u001b[0m\u001b[0m\n\u001b[1;32m--> 307\u001b[1;33m             \u001b[0mversion\u001b[0m\u001b[1;33m,\u001b[0m \u001b[0mstatus\u001b[0m\u001b[1;33m,\u001b[0m \u001b[0mreason\u001b[0m \u001b[1;33m=\u001b[0m \u001b[0mself\u001b[0m\u001b[1;33m.\u001b[0m\u001b[0m_read_status\u001b[0m\u001b[1;33m(\u001b[0m\u001b[1;33m)\u001b[0m\u001b[1;33m\u001b[0m\u001b[1;33m\u001b[0m\u001b[0m\n\u001b[0m\u001b[0;32m    308\u001b[0m             \u001b[1;32mif\u001b[0m \u001b[0mstatus\u001b[0m \u001b[1;33m!=\u001b[0m \u001b[0mCONTINUE\u001b[0m\u001b[1;33m:\u001b[0m\u001b[1;33m\u001b[0m\u001b[1;33m\u001b[0m\u001b[0m\n\u001b[0;32m    309\u001b[0m                 \u001b[1;32mbreak\u001b[0m\u001b[1;33m\u001b[0m\u001b[1;33m\u001b[0m\u001b[0m\n",
      "\u001b[1;32m~\\anaconda3\\envs\\PythonData\\lib\\http\\client.py\u001b[0m in \u001b[0;36m_read_status\u001b[1;34m(self)\u001b[0m\n\u001b[0;32m    266\u001b[0m \u001b[1;33m\u001b[0m\u001b[0m\n\u001b[0;32m    267\u001b[0m     \u001b[1;32mdef\u001b[0m \u001b[0m_read_status\u001b[0m\u001b[1;33m(\u001b[0m\u001b[0mself\u001b[0m\u001b[1;33m)\u001b[0m\u001b[1;33m:\u001b[0m\u001b[1;33m\u001b[0m\u001b[1;33m\u001b[0m\u001b[0m\n\u001b[1;32m--> 268\u001b[1;33m         \u001b[0mline\u001b[0m \u001b[1;33m=\u001b[0m \u001b[0mstr\u001b[0m\u001b[1;33m(\u001b[0m\u001b[0mself\u001b[0m\u001b[1;33m.\u001b[0m\u001b[0mfp\u001b[0m\u001b[1;33m.\u001b[0m\u001b[0mreadline\u001b[0m\u001b[1;33m(\u001b[0m\u001b[0m_MAXLINE\u001b[0m \u001b[1;33m+\u001b[0m \u001b[1;36m1\u001b[0m\u001b[1;33m)\u001b[0m\u001b[1;33m,\u001b[0m \u001b[1;34m\"iso-8859-1\"\u001b[0m\u001b[1;33m)\u001b[0m\u001b[1;33m\u001b[0m\u001b[1;33m\u001b[0m\u001b[0m\n\u001b[0m\u001b[0;32m    269\u001b[0m         \u001b[1;32mif\u001b[0m \u001b[0mlen\u001b[0m\u001b[1;33m(\u001b[0m\u001b[0mline\u001b[0m\u001b[1;33m)\u001b[0m \u001b[1;33m>\u001b[0m \u001b[0m_MAXLINE\u001b[0m\u001b[1;33m:\u001b[0m\u001b[1;33m\u001b[0m\u001b[1;33m\u001b[0m\u001b[0m\n\u001b[0;32m    270\u001b[0m             \u001b[1;32mraise\u001b[0m \u001b[0mLineTooLong\u001b[0m\u001b[1;33m(\u001b[0m\u001b[1;34m\"status line\"\u001b[0m\u001b[1;33m)\u001b[0m\u001b[1;33m\u001b[0m\u001b[1;33m\u001b[0m\u001b[0m\n",
      "\u001b[1;32m~\\anaconda3\\envs\\PythonData\\lib\\socket.py\u001b[0m in \u001b[0;36mreadinto\u001b[1;34m(self, b)\u001b[0m\n\u001b[0;32m    584\u001b[0m         \u001b[1;32mwhile\u001b[0m \u001b[1;32mTrue\u001b[0m\u001b[1;33m:\u001b[0m\u001b[1;33m\u001b[0m\u001b[1;33m\u001b[0m\u001b[0m\n\u001b[0;32m    585\u001b[0m             \u001b[1;32mtry\u001b[0m\u001b[1;33m:\u001b[0m\u001b[1;33m\u001b[0m\u001b[1;33m\u001b[0m\u001b[0m\n\u001b[1;32m--> 586\u001b[1;33m                 \u001b[1;32mreturn\u001b[0m \u001b[0mself\u001b[0m\u001b[1;33m.\u001b[0m\u001b[0m_sock\u001b[0m\u001b[1;33m.\u001b[0m\u001b[0mrecv_into\u001b[0m\u001b[1;33m(\u001b[0m\u001b[0mb\u001b[0m\u001b[1;33m)\u001b[0m\u001b[1;33m\u001b[0m\u001b[1;33m\u001b[0m\u001b[0m\n\u001b[0m\u001b[0;32m    587\u001b[0m             \u001b[1;32mexcept\u001b[0m \u001b[0mtimeout\u001b[0m\u001b[1;33m:\u001b[0m\u001b[1;33m\u001b[0m\u001b[1;33m\u001b[0m\u001b[0m\n\u001b[0;32m    588\u001b[0m                 \u001b[0mself\u001b[0m\u001b[1;33m.\u001b[0m\u001b[0m_timeout_occurred\u001b[0m \u001b[1;33m=\u001b[0m \u001b[1;32mTrue\u001b[0m\u001b[1;33m\u001b[0m\u001b[1;33m\u001b[0m\u001b[0m\n",
      "\u001b[1;31mKeyboardInterrupt\u001b[0m: "
     ]
    }
   ],
   "source": [
    "# Base url for api\n",
    "url = \"http://api.openweathermap.org/data/2.5/weather?\"\n",
    "\n",
    "# Create lists to store response data\n",
    "weather_data = []\n",
    "temp = []\n",
    "humidity = []\n",
    "cloud = []\n",
    "wind = []\n",
    "country = []\n",
    "date = []\n",
    "city_name = []\n",
    "\n",
    "# Output record Counter and Total count\n",
    "record= 1\n",
    "total_record = len(cities)\n",
    "\n",
    "# Units to convert Kelvin to Farenheight \n",
    "units = 'imperial'\n",
    "\n",
    "# Print Intial Data Log Statement\n",
    "print(f\"Beginning Data Retrieval\")\n",
    "print(f\"-------------------------------\")\n",
    "\n",
    "# Create a loop to go through all the cities & perform the requests for data on each entry\n",
    "for city in cities:\n",
    "\n",
    "    query_url = f\"{url}appid={weather_api_key}&units={units}&q=\"\n",
    "\n",
    "    response = requests.get(query_url + city).json()\n",
    "#     print(response)\n",
    "    try:\n",
    "        city_name.append(response['name'])\n",
    "        temp.append(response['main']['temp_max'])\n",
    "        humidity.append(response['main']['humidity'])\n",
    "        cloud.append(response['clouds']['all'])\n",
    "        wind.append(response['wind']['speed'])\n",
    "        country.append(response['sys']['country'])\n",
    "        date.append(response['dt'])\n",
    "        \n",
    "        print(f\"Processing Record {record} of {total_record}  | {city}\" )\n",
    "        \n",
    "#       Add to increase record count by one for each city \n",
    "        record += 1\n",
    "    except:\n",
    "         print(\"City not found. Skipping...\") \n",
    "        \n",
    "# Print Ending Data Log Statement \n",
    "print(f\"-------------------------------\")\n",
    "print(f\"Data Retrieval Complete\")\n",
    "print(f\"-------------------------------\")"
   ]
  },
  {
   "cell_type": "code",
   "execution_count": null,
   "metadata": {},
   "outputs": [],
   "source": [
    "# Create a DataFrame containing 'City ', 'Country', 'Latitude', 'Longitude',  'Temperature', 'Humidity', 'Cloudiness', 'Wind Speed', 'Date'\n",
    "weather_data = pd.DataFrame(( city_name, country, lats, lngs, temp, humidity, cloud, wind, date), \n",
    "                            index=('City ', 'Country', 'Latitude', 'Longitude',  'Temperature', 'Humidity', 'Cloudiness', 'Wind Speed', 'Date'), dtype=\"int\").T\n",
    "# Display DataFrame \n"
   ]
  },
  {
   "cell_type": "code",
   "execution_count": null,
   "metadata": {},
   "outputs": [],
   "source": [
    "weather_data.dtypes"
   ]
  },
  {
   "cell_type": "code",
   "execution_count": null,
   "metadata": {
    "scrolled": true
   },
   "outputs": [],
   "source": [
    "# Drop any rows containing missing values\n",
    "weather_clean = weather_data.dropna(how='any')\n",
    "weather_clean"
   ]
  },
  {
   "cell_type": "code",
   "execution_count": null,
   "metadata": {},
   "outputs": [],
   "source": [
    "weather_clean.describe()"
   ]
  },
  {
   "cell_type": "code",
   "execution_count": null,
   "metadata": {
    "scrolled": true
   },
   "outputs": [],
   "source": [
    "# Find any cities with humidty of greater than 100, if none skip this step\n",
    "weather_cities = weather_clean.loc[(weather_clean['Humidity'] >100)]\n",
    "weather_cities"
   ]
  },
  {
   "cell_type": "code",
   "execution_count": null,
   "metadata": {},
   "outputs": [],
   "source": [
    "weather_clean['Latitude'] = pd.to_numeric(weather_clean['Latitude'], downcast=\"integer\")\n",
    "weather_clean['Temperature'] = pd.to_numeric(weather_clean['Temperature'], downcast=\"integer\")\n",
    "weather_clean['Humidity'] = pd.to_numeric(weather_clean['Humidity'], downcast=\"integer\")\n",
    "weather_clean['Cloudiness'] = pd.to_numeric(weather_clean['Cloudiness'], downcast=\"integer\")\n",
    "\n",
    "weather_clean['Longitude'] = pd.to_numeric(weather_clean['Longitude'], downcast=\"integer\")"
   ]
  },
  {
   "cell_type": "code",
   "execution_count": null,
   "metadata": {},
   "outputs": [],
   "source": [
    "weather_clean['Wind Speed'] = pd.to_numeric(weather_clean['Wind Speed'], downcast=\"integer\")\n",
    "weather_clean.dtypes"
   ]
  },
  {
   "cell_type": "code",
   "execution_count": null,
   "metadata": {},
   "outputs": [],
   "source": [
    "# Create individual scatter plots for temperature, humidty, cloudiness, and wind speed against latitude data\n",
    "\n",
    "# Create scatter plot of temp vs latitude\n",
    "plt.scatter(weather_clean['Latitude'], weather_clean['Temperature'], marker='o')\n",
    "\n",
    "plt.title('Temperature (F) vs Latitude (11/05/2020)')\n",
    "plt.xlabel('Latitude')\n",
    "plt.ylabel('Max Temperature (F)')\n",
    "plt.grid(True)\n",
    "plt.savefig(\"lat_vs_temp.png\")\n",
    "plt.show()\n"
   ]
  },
  {
   "cell_type": "markdown",
   "metadata": {},
   "source": [
    "The scatter plot below is displaying all the individual cities from the data table, use column names to populate the data for each axis, added labels and title\n",
    "The results don't seem to highlight any sort of correlation without further analysis of the data"
   ]
  },
  {
   "cell_type": "code",
   "execution_count": null,
   "metadata": {},
   "outputs": [],
   "source": [
    "# Create scatter plot of humidity vs latitude\n",
    "\n",
    "plt.scatter(weather_clean['Latitude'], weather_clean['Humidity'], marker='o')\n",
    "\n",
    "plt.title('Temperature (F) vs Humidity (%) (11/05/2020)')\n",
    "plt.xlabel('Latitude')\n",
    "plt.ylabel('Humidity (%)')\n",
    "plt.grid(True)\n",
    "plt.savefig(\"lat_vs_humidity.png\")\n",
    "plt.show()\n",
    "\n"
   ]
  },
  {
   "cell_type": "markdown",
   "metadata": {},
   "source": [
    "The scatter plot below is displaying all the individual cities from the data table, use column names to populate the data for each axis, added labels and title\n",
    "The results don't seem to highlight any sort of correlation without further analysis of the data"
   ]
  },
  {
   "cell_type": "code",
   "execution_count": null,
   "metadata": {},
   "outputs": [],
   "source": [
    "# Create scatter plot of cloudiness vs latitude\n",
    "\n",
    "plt.scatter(weather_clean['Latitude'], weather_clean['Cloudiness'], marker='o')\n",
    "\n",
    "plt.title('Cloudiness (%) vs Latitude (11/05/2020)')\n",
    "plt.xlabel('Latitude')\n",
    "plt.ylabel('Cloudiness (%)')\n",
    "plt.grid(True)\n",
    "plt.savefig('lat_vs_cloudiness.png')\n",
    "plt.show()\n",
    "\n"
   ]
  },
  {
   "cell_type": "markdown",
   "metadata": {},
   "source": [
    "The scatter plot below is displaying all the individual cities from the data table, use column names to populate the data for each axis, added labels and title\n",
    "The results don't seem to highlight any sort of correlation without further analysis of the data"
   ]
  },
  {
   "cell_type": "code",
   "execution_count": null,
   "metadata": {},
   "outputs": [],
   "source": [
    "# Create scatter plot of wind speed vs latitude\n",
    "\n",
    "plt.scatter(weather_clean['Latitude'], weather_clean['Wind Speed'], marker='o')\n",
    "\n",
    "plt.title('Wind Speed (mph) vs Latitude (11/05/2020)')\n",
    "plt.xlabel('Latitude')\n",
    "plt.ylabel('Wind Speed (mph)')\n",
    "plt.grid(True)\n",
    "plt.savefig('lat_vs_wind.png')\n",
    "plt.show()\n"
   ]
  },
  {
   "cell_type": "markdown",
   "metadata": {},
   "source": [
    "The scatter plot below is displaying all the individual cities from the data table, use column names to populate the data for each axis, added labels and title\n",
    "The results don't seem to highlight any sort of correlation without further analysis of the data, there are possibly some outliers in this data which might skew the results"
   ]
  },
  {
   "cell_type": "code",
   "execution_count": null,
   "metadata": {
    "scrolled": true
   },
   "outputs": [],
   "source": [
    "# Run a linear regression for each of the above conditions\n",
    "# Create Data Tables for northern and southern hemispheres \n",
    "northern_hemi = weather_clean.loc[(weather_clean['Latitude'] >=0)]\n",
    "northern_hemi.dtypes"
   ]
  },
  {
   "cell_type": "code",
   "execution_count": null,
   "metadata": {},
   "outputs": [],
   "source": [
    "# northern_hemi['Latitude'] = pd.to_numeric(northern_hemi['Latitude'], downcast=\"integer\")"
   ]
  },
  {
   "cell_type": "code",
   "execution_count": null,
   "metadata": {},
   "outputs": [],
   "source": [
    "southern_hemi = weather_clean.loc[(weather_clean['Latitude'] <0)]\n",
    "southern_hemi.dtypes\n"
   ]
  },
  {
   "cell_type": "code",
   "execution_count": null,
   "metadata": {},
   "outputs": [],
   "source": [
    "# Define Data\n",
    "x_values = northern_hemi['Latitude']\n",
    "y_values = northern_hemi['Temperature']\n",
    "\n",
    "# Create Scatter plot\n",
    "plt.ylabel('Temperature (F)')\n",
    "plt.xlabel('Latitude')\n",
    "plt.title('Temperature (F) vs Latitude in the Northern Hemishpere')\n",
    "plt.scatter(x_values,y_values)\n",
    "plt.plot(x_values,regress_values,\"r-\")\n",
    "plt.grid(True)\n",
    "plt.annotate(line_eq,(0,20),fontsize=15,color=\"red\")\n",
    "\n",
    "\n",
    "# Calculate linear regression\n",
    "(slope, intercept, rvalue, pvalue, stderr) = linregress(x_values, y_values)\n",
    "regress_values = x_values * slope + intercept\n",
    "line_eq = \"y = \" + str(round(slope,2)) + \"x + \" + str(round(intercept,2))\n",
    "\n",
    "# Print results for r-squared and p-value\n",
    "print(f\"The r-squared is: {rvalue**2}\")\n",
    "print(f'P-value: {pvalue}')\n",
    "plt.savefig('Homework_Output/temp_north.png')\n",
    "\n",
    "print(line_eq)\n",
    "plt.show()\n",
    "\n",
    "# Define Data\n",
    "x_values = southern_hemi['Latitude']\n",
    "y_values = southern_hemi['Temperature']\n",
    "\n",
    "# Create Scatter plot\n",
    "plt.ylabel('Temperature (F)')\n",
    "plt.xlabel('Latitude')\n",
    "plt.title('Temperature (F) vs Latitude in the Southern Hemishpere')\n",
    "plt.scatter(x_values,y_values)\n",
    "plt.plot(x_values,regress_values,\"r-\")\n",
    "plt.grid(True)\n",
    "plt.annotate(line_eq,(-75,35),fontsize=15,color=\"red\")\n",
    "\n",
    "# Calculate linear regression\n",
    "(slope, intercept, rvalue, pvalue, stderr) = linregress(x_values, y_values)\n",
    "regress_values = x_values * slope + intercept\n",
    "line_eq = \"y = \" + str(round(slope,2)) + \"x + \" + str(round(intercept,2))\n",
    "\n",
    "# Print results for r-squared and p-value\n",
    "print(f\"The r-squared is: {rvalue**2}\")\n",
    "print(f'P-value: {pvalue}')\n",
    "\n",
    "# Check correlation between the data sets \n",
    "correlation = st.pearsonr(x_values, y_values)\n",
    "\n",
    "# Save image copy \n",
    "plt.savefig('Homework_Output/temp_south.png')\n",
    "\n",
    "# Display linear equation on plot\n",
    "print(line_eq)\n",
    "\n",
    "# Populate plots and display \n",
    "plt.show()\n",
    "\n",
    "# Displays correlation between the data sets\n",
    "print(f\"The correlation between both factors is {round(correlation[0],2)}\")\n"
   ]
  },
  {
   "cell_type": "markdown",
   "metadata": {},
   "source": [
    "When breaking the set of data into Hemispheres North and South it does little to change the plots after seperting the data points. With r-squared values close to zero in both plots, its hard to draw any solid conclusions from the data aside from a lack of correlation. Looking at the datapoints you can see that all latitudes have about the same range of temperatures regardless of latitude, which is surprising. "
   ]
  },
  {
   "cell_type": "code",
   "execution_count": null,
   "metadata": {},
   "outputs": [],
   "source": [
    "# Define Data\n",
    "x_values = northern_hemi['Latitude']\n",
    "y_values = northern_hemi['Humidity']\n",
    "\n",
    "# Create Scatter plot\n",
    "plt.ylabel('Humidity (%)')\n",
    "plt.xlabel('Latitude')\n",
    "plt.title('Humidity (%) vs Latitude in the Northern Hemishpere')\n",
    "plt.scatter(x_values,y_values)\n",
    "plt.plot(x_values,regress_values,\"r-\")\n",
    "plt.annotate(line_eq,(0,50),fontsize=15,color=\"red\")\n",
    "\n",
    "# Calculate linear regression\n",
    "(slope, intercept, rvalue, pvalue, stderr) = linregress(x_values, y_values)\n",
    "regress_values = x_values * slope + intercept\n",
    "line_eq = \"y = \" + str(round(slope,2)) + \"x + \" + str(round(intercept,2))\n",
    "print(f\"The r-squared is: {rvalue**2}\")\n",
    "print(f'P-value: {pvalue}')\n",
    "\n",
    "# Save image copy \n",
    "plt.savefig('Homework_Output/humid_north.png')\n",
    "\n",
    "# Display linear equation on plot\n",
    "print(line_eq)\n",
    "plt.show()\n",
    "\n",
    "# Define Data\n",
    "x_values = southern_hemi['Latitude']\n",
    "y_values = southern_hemi['Humidity']\n",
    "\n",
    "# Create Scatter plot\n",
    "plt.ylabel('Humidity (%)')\n",
    "plt.xlabel('Latitude')\n",
    "plt.title('Humidity (%) vs Latitude in the Southern Hemishpere')\n",
    "plt.scatter(x_values,y_values)\n",
    "plt.plot(x_values,regress_values,\"r-\")\n",
    "plt.annotate(line_eq,(-50, 25),fontsize=15,color=\"red\")\n",
    "\n",
    "# Calculate linear regression\n",
    "(slope, intercept, rvalue, pvalue, stderr) = linregress(x_values, y_values)\n",
    "regress_values = x_values * slope + intercept\n",
    "line_eq = \"y = \" + str(round(slope,2)) + \"x + \" + str(round(intercept,2))\n",
    "\n",
    "# Print results for r-squared and p-value\n",
    "print(f\"The r-squared is: {rvalue**2}\")\n",
    "print(f'P-value: {pvalue}')\n",
    "\n",
    "# Save image copy \n",
    "plt.savefig('Homework_Output/humid_south.png')\n",
    "\n",
    "# Display linear equation on plot\n",
    "print(line_eq)\n",
    "\n",
    "# Populate plots and display \n",
    "plt.show()\n",
    "\n",
    "# Displays correlation between the data sets\n",
    "correlation = st.pearsonr(x_values, y_values)\n",
    "print(f\"The correlation between both factors is {round(correlation[0],2)}\")"
   ]
  },
  {
   "cell_type": "markdown",
   "metadata": {},
   "source": [
    "When breaking the set of data into Hemispheres North and South it does little to change the plots after seperting the data points. With r-squared values close to zero in both plots, its hard to draw any solid conclusions from the data aside from a lack of correlation. Looking at the datapoints you can see that all latitudes have about the same range of humidty values  regardless of latitude."
   ]
  },
  {
   "cell_type": "code",
   "execution_count": null,
   "metadata": {},
   "outputs": [],
   "source": [
    "# Define Data\n",
    "x_values = northern_hemi['Latitude']\n",
    "y_values = northern_hemi['Cloudiness']\n",
    "\n",
    "# Create Scatter plot\n",
    "plt.ylabel('Cloudiness (%)')\n",
    "plt.xlabel('Latitude')\n",
    "plt.title('Cloudiness (%) vs Latitude in the Northern Hemishpere')\n",
    "plt.scatter(x_values,y_values)\n",
    "plt.plot(x_values,regress_values,\"r-\")\n",
    "plt.annotate(line_eq,(0,25),fontsize=15,color=\"red\")\n",
    "\n",
    "# Calculate linear regression\n",
    "(slope, intercept, rvalue, pvalue, stderr) = linregress(x_values, y_values)\n",
    "regress_values = x_values * slope + intercept\n",
    "line_eq = \"y = \" + str(round(slope,2)) + \"x + \" + str(round(intercept,2))\n",
    "\n",
    "# Print results for r-squared and p-value\n",
    "print(f\"The r-squared is: {rvalue**2}\")\n",
    "print(f'P-value: {pvalue}')\n",
    "\n",
    "# Save image copy \n",
    "plt.savefig('Homework_Output/cloud_north.png')\n",
    "\n",
    "# Display linear equation on plot\n",
    "print(line_eq)\n",
    "\n",
    "# Populate plots and display \n",
    "plt.show()\n",
    "\n",
    "# Define Data\n",
    "x_values = southern_hemi['Latitude']\n",
    "y_values = southern_hemi['Cloudiness']\n",
    "\n",
    "# Create Scatter plot\n",
    "plt.ylabel('Cloudiness (%)')\n",
    "plt.xlabel('Latitude')\n",
    "plt.title('Cloudiness (%) vs Latitude in the Southern Hemishpere')\n",
    "plt.scatter(x_values,y_values)\n",
    "plt.plot(x_values,regress_values,\"r-\")\n",
    "plt.annotate(line_eq,(-50,25),fontsize=15,color=\"red\")\n",
    "\n",
    "# Calculate linear regression\n",
    "(slope, intercept, rvalue, pvalue, stderr) = linregress(x_values, y_values)\n",
    "regress_values = x_values * slope + intercept\n",
    "line_eq = \"y = \" + str(round(slope,2)) + \"x + \" + str(round(intercept,2))\n",
    "\n",
    "\n",
    "# Print results for r-squared and p-value, print linear equation on plot\n",
    "print(f\"The r-squared is: {rvalue**2}\")\n",
    "print(f'P-value: {pvalue}')\n",
    "print(line_eq)\n",
    "\n",
    "# Save image copy \n",
    "plt.savefig('Homework_Output/cloud_south.png')\n",
    "\n",
    "\n",
    "# Populate plots and display \n",
    "plt.show()\n",
    "\n",
    "# Displays correlation between the data sets\n",
    "correlation = st.pearsonr(x_values, y_values)\n",
    "print(f\"The correlation between both factors is {round(correlation[0],2)}\")\n"
   ]
  },
  {
   "cell_type": "markdown",
   "metadata": {},
   "source": [
    "When breaking the set of data into Hemispheres North and South it does little to change the plots after seperting the data points. With r-squared values close to zero in both plots, its hard to draw any solid conclusions from the data aside from a lack of correlation. Looking at the datapoints you can see that all latitudes have about the same range of cloudiness values  regardless of latitude."
   ]
  },
  {
   "cell_type": "code",
   "execution_count": null,
   "metadata": {},
   "outputs": [],
   "source": []
  },
  {
   "cell_type": "code",
   "execution_count": null,
   "metadata": {},
   "outputs": [],
   "source": [
    "# Define Data\n",
    "x_values = northern_hemi['Latitude']\n",
    "y_values = northern_hemi['Wind Speed']\n",
    "\n",
    "# Create Scatter plot\n",
    "plt.ylabel('Wind Speed (mph)')\n",
    "plt.xlabel('Latitude')\n",
    "plt.title('Wind Speed (mph) vs Latitude in the Northern Hemishpere')\n",
    "plt.scatter(x_values,y_values)\n",
    "plt.plot(x_values,regress_values,\"r-\")\n",
    "plt.annotate(line_eq,(0,25),fontsize=15,color=\"red\")\n",
    "\n",
    "# Calculate linear regression\n",
    "(slope, intercept, rvalue, pvalue, stderr) = linregress(x_values, y_values)\n",
    "regress_values = x_values * slope + intercept\n",
    "line_eq = \"y = \" + str(round(slope,2)) + \"x + \" + str(round(intercept,2))\n",
    "\n",
    "\n",
    "# Print results for r-squared and p-value\n",
    "print(f\"The r-squared is: {rvalue**2}\")\n",
    "print(f'P-value: {pvalue}')\n",
    "\n",
    "# Save image copy \n",
    "plt.savefig('Homework_Output/wind_north.png')\n",
    "\n",
    "\n",
    "# Display linear equation on plot\n",
    "print(line_eq)\n",
    "\n",
    "# Populate plots and display \n",
    "plt.show()\n",
    "\n",
    "# Define Data\n",
    "x_values = southern_hemi['Latitude']\n",
    "y_values = southern_hemi['Wind Speed']\n",
    "\n",
    "# Create Scatter plot\n",
    "plt.ylabel('Wind Speed (mph)')\n",
    "plt.xlabel('Latitude')\n",
    "plt.title('Wind Speed (mph) vs Latitude in the Southern Hemishpere')\n",
    "plt.scatter(x_values,y_values)\n",
    "plt.plot(x_values,regress_values,\"r-\")\n",
    "plt.annotate(line_eq,(-45,20),fontsize=15,color=\"red\")\n",
    "\n",
    "# Calculate linear regression\n",
    "(slope, intercept, rvalue, pvalue, stderr) = linregress(x_values, y_values)\n",
    "regress_values = x_values * slope + intercept\n",
    "line_eq = \"y = \" + str(round(slope,2)) + \"x + \" + str(round(intercept,2))\n",
    "\n",
    "# Print results for r-squared and p-value\n",
    "print(f\"The r-squared is: {rvalue**2}\")\n",
    "print(f'P-value: {pvalue}')\n",
    "\n",
    "\n",
    "# Save image copy \n",
    "plt.savefig('Homework_Output/humid_south.png')\n",
    "\n",
    "# Display linear equation on plot\n",
    "print(line_eq)\n",
    "\n",
    "# Populate plots and display \n",
    "plt.show()\n",
    "\n",
    "# Displays correlation between the data sets\n",
    "correlation = st.pearsonr(x_values, y_values)\n",
    "print(f\"The correlation between both factors is {round(correlation[0],2)}\")"
   ]
  },
  {
   "cell_type": "markdown",
   "metadata": {},
   "source": [
    "When breaking the set of data into Hemispheres North and South it does little to change the plots after seperting the data points. With r-squared values close to zero in both plots, its hard to draw any solid conclusions from the data aside from a lack of correlation. Looking at the datapoints you can see that all latitudes have about the same range of wind speed values  regardless of latitude. "
   ]
  },
  {
   "cell_type": "code",
   "execution_count": null,
   "metadata": {},
   "outputs": [],
   "source": []
  },
  {
   "cell_type": "code",
   "execution_count": null,
   "metadata": {},
   "outputs": [],
   "source": []
  },
  {
   "cell_type": "code",
   "execution_count": null,
   "metadata": {},
   "outputs": [],
   "source": []
  },
  {
   "cell_type": "code",
   "execution_count": null,
   "metadata": {},
   "outputs": [],
   "source": []
  },
  {
   "cell_type": "code",
   "execution_count": null,
   "metadata": {},
   "outputs": [],
   "source": []
  }
 ],
 "metadata": {
  "kernelspec": {
   "display_name": "Python [conda env:PythonData]",
   "language": "python",
   "name": "conda-env-PythonData-py"
  },
  "language_info": {
   "codemirror_mode": {
    "name": "ipython",
    "version": 3
   },
   "file_extension": ".py",
   "mimetype": "text/x-python",
   "name": "python",
   "nbconvert_exporter": "python",
   "pygments_lexer": "ipython3",
   "version": "3.6.10"
  }
 },
 "nbformat": 4,
 "nbformat_minor": 4
}
